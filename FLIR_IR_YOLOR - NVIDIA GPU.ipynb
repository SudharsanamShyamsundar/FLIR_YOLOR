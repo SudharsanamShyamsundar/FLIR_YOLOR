{
 "cells": [
  {
   "cell_type": "code",
   "execution_count": 1,
   "metadata": {
    "colab": {
     "base_uri": "https://localhost:8080/"
    },
    "id": "erBMpTfSdG03",
    "outputId": "9963d3b0-ac5c-45b8-d493-6cd08e1ca0c6"
   },
   "outputs": [
    {
     "name": "stdout",
     "output_type": "stream",
     "text": [
      "Mon May  9 12:34:22 2022       \n",
      "+-----------------------------------------------------------------------------+\n",
      "| NVIDIA-SMI 460.32.03    Driver Version: 460.32.03    CUDA Version: 11.2     |\n",
      "|-------------------------------+----------------------+----------------------+\n",
      "| GPU  Name        Persistence-M| Bus-Id        Disp.A | Volatile Uncorr. ECC |\n",
      "| Fan  Temp  Perf  Pwr:Usage/Cap|         Memory-Usage | GPU-Util  Compute M. |\n",
      "|                               |                      |               MIG M. |\n",
      "|===============================+======================+======================|\n",
      "|   0  Tesla T4            On   | 00000000:00:1B.0 Off |                    0 |\n",
      "| N/A   22C    P8     8W /  70W |      0MiB / 15109MiB |      0%      Default |\n",
      "|                               |                      |                  N/A |\n",
      "+-------------------------------+----------------------+----------------------+\n",
      "|   1  Tesla T4            On   | 00000000:00:1C.0 Off |                    0 |\n",
      "| N/A   23C    P8     9W /  70W |      0MiB / 15109MiB |      0%      Default |\n",
      "|                               |                      |                  N/A |\n",
      "+-------------------------------+----------------------+----------------------+\n",
      "|   2  Tesla T4            On   | 00000000:00:1D.0 Off |                    0 |\n",
      "| N/A   23C    P8     9W /  70W |      0MiB / 15109MiB |      0%      Default |\n",
      "|                               |                      |                  N/A |\n",
      "+-------------------------------+----------------------+----------------------+\n",
      "|   3  Tesla T4            On   | 00000000:00:1E.0 Off |                    0 |\n",
      "| N/A   23C    P8     9W /  70W |      0MiB / 15109MiB |      0%      Default |\n",
      "|                               |                      |                  N/A |\n",
      "+-------------------------------+----------------------+----------------------+\n",
      "                                                                               \n",
      "+-----------------------------------------------------------------------------+\n",
      "| Processes:                                                                  |\n",
      "|  GPU   GI   CI        PID   Type   Process name                  GPU Memory |\n",
      "|        ID   ID                                                   Usage      |\n",
      "|=============================================================================|\n",
      "|  No running processes found                                                 |\n",
      "+-----------------------------------------------------------------------------+\n"
     ]
    }
   ],
   "source": [
    "!nvidia-smi\n",
    "#https://stackoverflow.com/questions/49311195/how-to-install-coco-pythonapi-in-python3"
   ]
  },
  {
   "cell_type": "code",
   "execution_count": 1,
   "metadata": {
    "id": "WCmJg4sC6aaT"
   },
   "outputs": [],
   "source": [
    "%%capture\n",
    "!pip install kaggle\n",
    "!mkdir ~/.kaggle\n",
    "! cp kaggle.json ~/.kaggle/\n",
    "! chmod 600 ~/.kaggle/kaggle.json\n"
   ]
  },
  {
   "cell_type": "code",
   "execution_count": 2,
   "metadata": {
    "colab": {
     "base_uri": "https://localhost:8080/"
    },
    "id": "5OSAV8kx5zFR",
    "outputId": "a2602f8c-a114-4938-d013-2b472109f55d"
   },
   "outputs": [
    {
     "name": "stdout",
     "output_type": "stream",
     "text": [
      "Downloading yolo-flir.zip to /dli/task\n",
      "100%|██████████████████████████████████████▉| 6.58G/6.58G [01:06<00:00, 176MB/s]\n",
      "100%|███████████████████████████████████████| 6.58G/6.58G [01:06<00:00, 107MB/s]\n"
     ]
    }
   ],
   "source": [
    "! kaggle datasets download -d benceveges/yolo-flir"
   ]
  },
  {
   "cell_type": "code",
   "execution_count": 3,
   "metadata": {
    "id": "laHran436qlG"
   },
   "outputs": [],
   "source": [
    "%%capture\n",
    "!unzip yolo-flir.zip"
   ]
  },
  {
   "cell_type": "code",
   "execution_count": 4,
   "metadata": {
    "colab": {
     "base_uri": "https://localhost:8080/"
    },
    "id": "2_iMbKtk-aq5",
    "outputId": "fa0135b3-2eeb-4cf5-83c5-15d601cb4d30"
   },
   "outputs": [
    {
     "name": "stdout",
     "output_type": "stream",
     "text": [
      "Cloning into 'FLIR_YOLOR'...\n",
      "remote: Enumerating objects: 2432, done.\u001b[K\n",
      "remote: Counting objects: 100% (8/8), done.\u001b[K\n",
      "remote: Compressing objects: 100% (7/7), done.\u001b[K\n",
      "remote: Total 2432 (delta 1), reused 8 (delta 1), pack-reused 2424\u001b[K\n",
      "Receiving objects: 100% (2432/2432), 444.35 MiB | 70.26 MiB/s, done.\n",
      "Resolving deltas: 100% (34/34), done.\n"
     ]
    }
   ],
   "source": [
    "!git clone https://github.com/SudharsanamShyamsundar/FLIR_YOLOR.git"
   ]
  },
  {
   "cell_type": "code",
   "execution_count": 5,
   "metadata": {
    "id": "7xQykH18B7ud"
   },
   "outputs": [],
   "source": [
    "import os\n",
    "import shutil\n",
    "#Thermal Train images\n",
    "for file_name in os.listdir('/dli/task/images_thermal_train/images_thermal_train/'):\n",
    "    # construct full file path\n",
    "    source = '/dli/task/images_thermal_train/images_thermal_train/' + file_name\n",
    "    destination = '/dli/task/FLIR_YOLOR/flir_f1/images/train/' + file_name\n",
    "    # move only files\n",
    "    if os.path.isfile(source):\n",
    "        shutil.move(source, destination)\n",
    "\n",
    "# thermal train label\n",
    "for file_name in os.listdir('/dli/task/labels/coco_thermal_train/'):\n",
    "    # construct full file path\n",
    "    source = '/dli/task/labels/coco_thermal_train/' + file_name\n",
    "    destination = '/dli/task/FLIR_YOLOR/flir_f1/labels/train/' + file_name\n",
    "    # move only files\n",
    "    if os.path.isfile(source):\n",
    "        shutil.move(source, destination)\n",
    "\n",
    "# Thermal val images\n",
    "for file_name in os.listdir('/dli/task/images_thermal_val/images_thermal_val/'):\n",
    "    # construct full file path\n",
    "    source = '/dli/task/images_thermal_val/images_thermal_val/' + file_name\n",
    "    destination = '/dli/task/FLIR_YOLOR/flir_f1/images/val/' + file_name\n",
    "    # move only files\n",
    "    if os.path.isfile(source):\n",
    "        shutil.move(source, destination)\n",
    "\n",
    "# thermal validation label set\n",
    "for file_name in os.listdir('/dli/task/labels/coco_thermal_val/'):\n",
    "    # construct full file path\n",
    "    source = '/dli/task/labels/coco_thermal_val/' + file_name\n",
    "    destination = '/dli/task/FLIR_YOLOR/flir_f1/labels/val/' + file_name\n",
    "    # move only files\n",
    "    if os.path.isfile(source):\n",
    "        shutil.move(source, destination)\n",
    "        \n",
    "# Thermal test images\n",
    "for file_name in os.listdir('/dli/task/video_thermal_test/video_thermal_test/'):\n",
    "    # construct full file path\n",
    "    source = '/dli/task/video_thermal_test/video_thermal_test/' + file_name\n",
    "    destination = '/dli/task/FLIR_YOLOR/flir_f1/images/test/' + file_name\n",
    "    # move only files\n",
    "    if os.path.isfile(source):\n",
    "        shutil.move(source, destination)\n",
    "\n",
    "# thermal test label set\n",
    "for file_name in os.listdir('/dli/task/labels/coco_thermal_test/'):\n",
    "    # construct full file path\n",
    "    source = '/dli/task/labels/coco_thermal_test/' + file_name\n",
    "    destination = '/dli/task/FLIR_YOLOR/flir_f1/labels/test/' + file_name\n",
    "    # move only files\n",
    "    if os.path.isfile(source):\n",
    "        shutil.move(source, destination)"
   ]
  },
  {
   "cell_type": "code",
   "execution_count": 6,
   "metadata": {
    "colab": {
     "base_uri": "https://localhost:8080/"
    },
    "id": "pklBA_ig-06f",
    "outputId": "45d3730e-c791-4912-c957-48454953ce3b"
   },
   "outputs": [
    {
     "name": "stdout",
     "output_type": "stream",
     "text": [
      "/dli/task/FLIR_YOLOR\n"
     ]
    }
   ],
   "source": [
    "%cd /dli/task/FLIR_YOLOR"
   ]
  },
  {
   "cell_type": "code",
   "execution_count": 7,
   "metadata": {
    "colab": {
     "base_uri": "https://localhost:8080/"
    },
    "id": "7xpG1rjc-_gr",
    "outputId": "231404fd-06b2-40ef-86b5-513b18afd65f"
   },
   "outputs": [
    {
     "name": "stdout",
     "output_type": "stream",
     "text": [
      "\u001b[33mWARNING: Running pip as the 'root' user can result in broken permissions and conflicting behaviour with the system package manager. It is recommended to use a virtual environment instead: https://pip.pypa.io/warnings/venv\u001b[0m\u001b[33m\n",
      "\u001b[0m"
     ]
    }
   ],
   "source": [
    "!pip install -qr requirements.txt"
   ]
  },
  {
   "cell_type": "code",
   "execution_count": 8,
   "metadata": {
    "colab": {
     "base_uri": "https://localhost:8080/"
    },
    "id": "o-Czsu3t_BFg",
    "outputId": "1498f8ae-6706-42b8-822e-7706bc599dab"
   },
   "outputs": [
    {
     "name": "stdout",
     "output_type": "stream",
     "text": [
      "Cloning into 'mish-cuda'...\n",
      "remote: Enumerating objects: 195, done.\u001b[K\n",
      "remote: Counting objects: 100% (88/88), done.\u001b[K\n",
      "remote: Compressing objects: 100% (75/75), done.\u001b[K\n",
      "remote: Total 195 (delta 7), reused 79 (delta 3), pack-reused 107\u001b[K\n",
      "Receiving objects: 100% (195/195), 208.77 KiB | 23.20 MiB/s, done.\n",
      "Resolving deltas: 100% (56/56), done.\n",
      "/dli/task/FLIR_YOLOR/mish-cuda\n"
     ]
    }
   ],
   "source": [
    "!git clone https://github.com/JunnYu/mish-cuda\n",
    "%cd mish-cuda"
   ]
  },
  {
   "cell_type": "code",
   "execution_count": 9,
   "metadata": {
    "colab": {
     "base_uri": "https://localhost:8080/"
    },
    "id": "U1282HDE_hls",
    "outputId": "3a430674-7764-481b-83b8-c7ff234ceb9e"
   },
   "outputs": [],
   "source": [
    "%%capture\n",
    "!python setup.py build install\n",
    "%cd .."
   ]
  },
  {
   "cell_type": "code",
   "execution_count": 10,
   "metadata": {
    "colab": {
     "base_uri": "https://localhost:8080/"
    },
    "id": "RMQrh7ma_kIm",
    "outputId": "6de9597b-4ea9-4fc3-bcfe-51f86f64485a"
   },
   "outputs": [],
   "source": [
    "%%capture\n",
    "!git clone https://github.com/fbcotter/pytorch_wavelets\n",
    "%cd pytorch_wavelets\n",
    "!pip install .\n",
    "%cd .."
   ]
  },
  {
   "cell_type": "code",
   "execution_count": null,
   "metadata": {},
   "outputs": [],
   "source": [
    "#Open Cv libraries are not properly installed and hence we are using this below command to force install libaries\n",
    "!apt-get install ffmpeg libsm6 libxext6  -y\n"
   ]
  },
  {
   "cell_type": "code",
   "execution_count": null,
   "metadata": {
    "colab": {
     "base_uri": "https://localhost:8080/"
    },
    "id": "XDv8qm1N_8gr",
    "outputId": "89f1193d-fdad-4adf-fa40-5360aef7b167"
   },
   "outputs": [],
   "source": [
    "#We dont need to run this , as we have more cores in hand \n",
    "#!python train.py --batch-size 4 --img 1280 1280 --data flir.yaml --cfg cfg/yolor_p6.cfg --weights '' --device 0 --name yolor_p6 --hyp '/dli/task/FLIR_YOLOR/data/hyp.finetune.1280.yaml' --epochs 1"
   ]
  },
  {
   "cell_type": "code",
   "execution_count": 13,
   "metadata": {},
   "outputs": [
    {
     "name": "stdout",
     "output_type": "stream",
     "text": [
      "*****************************************\n",
      "Setting OMP_NUM_THREADS environment variable for each process to be 1 in default, to avoid your system being overloaded, please further tune the variable for optimal performance in your application as needed. \n",
      "*****************************************\n",
      "Using torch 1.7.0 CUDA:0 (Tesla T4, 15109MB)\n",
      "                  CUDA:1 (Tesla T4, 15109MB)\n",
      "                  CUDA:2 (Tesla T4, 15109MB)\n",
      "                  CUDA:3 (Tesla T4, 15109MB)\n",
      "\n",
      "Namespace(adam=False, batch_size=6, bucket='', cache_images=False, cfg='cfg/yolor_p6.cfg', data='flir.yaml', device='0,1,2,3', epochs=10, evolve=False, exist_ok=False, global_rank=0, hyp='/dli/task/FLIR_YOLOR/data/hyp.scratch.1280.yaml', image_weights=False, img_size=[1280, 1280], local_rank=0, log_imgs=16, multi_scale=False, name='yolor_p6', noautoanchor=False, nosave=False, notest=False, project='runs/train', rect=False, resume=False, save_dir='runs/train/yolor_p62', single_cls=False, sync_bn=True, total_batch_size=24, weights='', workers=8, world_size=4)\n",
      "Start Tensorboard with \"tensorboard --logdir runs/train\", view at http://localhost:6006/\n",
      "Hyperparameters {'lr0': 0.01, 'lrf': 0.2, 'momentum': 0.937, 'weight_decay': 0.0005, 'warmup_epochs': 3.0, 'warmup_momentum': 0.8, 'warmup_bias_lr': 0.1, 'box': 0.05, 'cls': 0.5, 'cls_pw': 1.0, 'obj': 1.0, 'obj_pw': 1.0, 'iou_t': 0.2, 'anchor_t': 4.0, 'fl_gamma': 0.0, 'hsv_h': 0.015, 'hsv_s': 0.7, 'hsv_v': 0.4, 'degrees': 0.0, 'translate': 0.5, 'scale': 0.5, 'shear': 0.0, 'perspective': 0.0, 'flipud': 0.0, 'fliplr': 0.5, 'mosaic': 1.0, 'mixup': 0.0}\n",
      "Model Summary: 665 layers, 37265016 parameters, 37265016 gradients, 81.564040600 GFLOPS\n",
      "Optimizer groups: 145 .bias, 145 conv.weight, 149 other\n",
      "Using SyncBatchNorm()\n",
      "Scanning images: 100%|██████████████████| 10478/10478 [00:01<00:00, 8684.51it/s]\n",
      "Scanning labels /dli/task/FLIR_YOLOR/flir_f1/labels/train.cache3 (10478 found, 0 missing, 0 empty, 2 duplicate, for 10478 images): 10478it [00:00, 16870.93it/s]\n",
      "Scanning images: 100%|████████████████████| 1128/1128 [00:00<00:00, 8428.76it/s]\n",
      "Scanning labels /dli/task/FLIR_YOLOR/flir_f1/labels/val.cache3 (1128 found, 0 missing, 0 empty, 2 duplicate, for 1128 images): 1128it [00:00, 16437.74it/s]\n",
      "Image sizes 1280 train, 1280 test\n",
      "Using 6 dataloader workers\n",
      "Logging results to runs/train/yolor_p62\n",
      "Starting training for 10 epochs...\n",
      "\n",
      "     Epoch   gpu_mem       box       obj       cls     total   targets  img_size\n",
      "       0/9     9.76G    0.1104    0.0703    0.1039    0.2846       221      1280Reducer buckets have been rebuilt in this iteration.\n",
      "       0/9     10.2G   0.08882   0.04232   0.07086     0.202        60      1280\n",
      "\n",
      "     Epoch   gpu_mem       box       obj       cls     total   targets  img_size\n",
      "       1/9     13.1G   0.08161   0.03871   0.04255    0.1629        80      1280\n",
      "\n",
      "     Epoch   gpu_mem       box       obj       cls     total   targets  img_size\n",
      "       2/9     13.1G   0.06436   0.03283   0.02909    0.1263        68      1280\n",
      "\n",
      "     Epoch   gpu_mem       box       obj       cls     total   targets  img_size\n",
      "       3/9     13.1G   0.05201   0.02946   0.01985    0.1013       129      1280\n",
      "               Class      Images     Targets           P           R      mAP@.5\n",
      "                 all    1.13e+03    1.67e+04       0.144       0.206       0.168      0.0772\n",
      "\n",
      "     Epoch   gpu_mem       box       obj       cls     total   targets  img_size\n",
      "       4/9     13.1G   0.04643    0.0279   0.01563   0.08997        84      1280\n",
      "               Class      Images     Targets           P           R      mAP@.5\n",
      "                 all    1.13e+03    1.67e+04       0.176        0.27       0.216       0.103\n",
      "\n",
      "     Epoch   gpu_mem       box       obj       cls     total   targets  img_size\n",
      "       5/9     13.1G   0.04226   0.02642   0.01316   0.08184        64      1280\n",
      "               Class      Images     Targets           P           R      mAP@.5\n",
      "                 all    1.13e+03    1.67e+04       0.182       0.302       0.237       0.118\n",
      "\n",
      "     Epoch   gpu_mem       box       obj       cls     total   targets  img_size\n",
      "       6/9     13.1G    0.0395   0.02488   0.01193   0.07631        56      1280\n",
      "               Class      Images     Targets           P           R      mAP@.5\n",
      "                 all    1.13e+03    1.67e+04       0.223       0.336        0.28       0.142\n",
      "\n",
      "     Epoch   gpu_mem       box       obj       cls     total   targets  img_size\n",
      "       7/9     13.1G   0.03714   0.02479   0.01081   0.07275        70      1280\n",
      "               Class      Images     Targets           P           R      mAP@.5\n",
      "                 all    1.13e+03    1.67e+04       0.187       0.377       0.302       0.159\n",
      "\n",
      "     Epoch   gpu_mem       box       obj       cls     total   targets  img_size\n",
      "       8/9     13.1G   0.03498   0.02341   0.01006   0.06845        61      1280\n",
      "               Class      Images     Targets           P           R      mAP@.5\n",
      "                 all    1.13e+03    1.67e+04       0.221        0.41       0.323       0.168\n",
      "\n",
      "     Epoch   gpu_mem       box       obj       cls     total   targets  img_size\n",
      "       9/9     13.1G   0.03355   0.02311  0.009006   0.06568        87      1280\n",
      "               Class      Images     Targets           P           R      mAP@.5\n",
      "                 all    1.13e+03    1.67e+04       0.314       0.386       0.332       0.178\n",
      "Optimizer stripped from runs/train/yolor_p62/weights/last.pt, 149.6MB\n",
      "Optimizer stripped from runs/train/yolor_p62/weights/best.pt, 149.6MB\n",
      "10 epochs completed in 1.339 hours.\n",
      "\n"
     ]
    }
   ],
   "source": [
    "!python -m torch.distributed.launch --nproc_per_node 4 --master_port 9527 train.py --batch-size 24 --img 1280 1280 --data flir.yaml --cfg cfg/yolor_p6.cfg --weights '' --device 0,1,2,3 --sync-bn --name yolor_p6 --hyp '/dli/task/FLIR_YOLOR/data/hyp.scratch.1280.yaml' --epochs 10\n"
   ]
  },
  {
   "cell_type": "code",
   "execution_count": 14,
   "metadata": {},
   "outputs": [
    {
     "name": "stdout",
     "output_type": "stream",
     "text": [
      "Namespace(agnostic_nms=False, augment=False, cfg='cfg/yolor_p6.cfg', classes=None, conf_thres=0.25, device='', img_size=1280, iou_thres=0.5, names='/dli/task/FLIR_YOLOR/data/coco.names', output='inference/output', save_txt=False, source='/dli/task/FLIR_YOLOR/flir_f1/images/test/video-4FRnNpmSmwktFJKjg-frame-000745-L6K5SC6fYjHNC8uff.jpg', update=False, view_img=False, weights=['/dli/task/FLIR_YOLOR/runs/train/yolor_p62/weights/last.pt'])\n",
      "image 1/1 /dli/task/FLIR_YOLOR/flir_f1/images/test/video-4FRnNpmSmwktFJKjg-frame-000745-L6K5SC6fYjHNC8uff.jpg: 1024x1280 1 persons, 1 cars, Done. (0.060s)\n",
      "Results saved to inference/output\n",
      "Done. (0.154s)\n"
     ]
    }
   ],
   "source": [
    "!python detect.py --weights /dli/task/FLIR_YOLOR/runs/train/yolor_p62/weights/last.pt --conf 0.25 --source /dli/task/FLIR_YOLOR/flir_f1/images/test/video-4FRnNpmSmwktFJKjg-frame-000745-L6K5SC6fYjHNC8uff.jpg --names /dli/task/FLIR_YOLOR/data/coco.names --cfg cfg/yolor_p6.cfg"
   ]
  },
  {
   "cell_type": "code",
   "execution_count": 15,
   "metadata": {},
   "outputs": [
    {
     "name": "stdout",
     "output_type": "stream",
     "text": [
      "Namespace(augment=False, batch_size=32, cfg='cfg/yolor_p6.cfg', conf_thres=0.001, data='flir.yaml', device='0', exist_ok=False, img_size=1280, iou_thres=0.65, name='yolor_p6_val', names='data/coco.names', project='runs/test', save_conf=False, save_json=False, save_txt=False, single_cls=False, task='val', verbose=False, weights=['/dli/task/FLIR_YOLOR/runs/train/yolor_p62/weights/last.pt'])\n",
      "Using torch 1.7.0 CUDA:0 (Tesla T4, 15109MB)\n",
      "\n",
      "Model Summary: 665 layers, 37265016 parameters, 37265016 gradients, 81.564040600 GFLOPS\n",
      "Scanning labels /dli/task/FLIR_YOLOR/flir_f1/labels/val.cache3 (1128 found, 0 missing, 0 empty, 2 duplicate, for 1128 images): 1128it [00:00, 17278.16it/s]\n",
      "               Class      Images     Targets           P           R      mAP@.5\n",
      "                 all    1.13e+03    1.67e+04       0.301       0.391       0.328       0.176\n",
      "Speed: 41.4/2.6/44.0 ms inference/NMS/total per 1280x1280 image at batch-size 32\n",
      "Results saved to runs/test/yolor_p6_val\n"
     ]
    }
   ],
   "source": [
    "!python test.py --data flir.yaml --img 1280 --batch 32 --conf 0.001 --iou 0.65 --device 0 --cfg cfg/yolor_p6.cfg --weights /dli/task/FLIR_YOLOR/runs/train/yolor_p62/weights/last.pt --name yolor_p6_val"
   ]
  },
  {
   "cell_type": "code",
   "execution_count": null,
   "metadata": {},
   "outputs": [],
   "source": [
    "#Open Cv libraries are not properly installed and hence we are using this below command to force install libaries\n",
    "%%capture\n",
    "!apt-get install ffmpeg libsm6 libxext6  -y\n"
   ]
  },
  {
   "cell_type": "code",
   "execution_count": null,
   "metadata": {
    "id": "Jaoj7_TrnkWD"
   },
   "outputs": [],
   "source": []
  }
 ],
 "metadata": {
  "accelerator": "GPU",
  "colab": {
   "collapsed_sections": [],
   "name": "FLIR_BME.ipynb",
   "provenance": []
  },
  "kernelspec": {
   "display_name": "Python 3 (ipykernel)",
   "language": "python",
   "name": "python3"
  },
  "language_info": {
   "codemirror_mode": {
    "name": "ipython",
    "version": 3
   },
   "file_extension": ".py",
   "mimetype": "text/x-python",
   "name": "python",
   "nbconvert_exporter": "python",
   "pygments_lexer": "ipython3",
   "version": "3.8.12"
  }
 },
 "nbformat": 4,
 "nbformat_minor": 4
}
